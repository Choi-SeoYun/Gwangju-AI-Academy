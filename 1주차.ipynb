{
  "nbformat": 4,
  "nbformat_minor": 0,
  "metadata": {
    "colab": {
      "name": "1주차.ipynb",
      "provenance": [],
      "collapsed_sections": [],
      "authorship_tag": "ABX9TyMMKMJ5aViVXyA11NEQ/+Fv",
      "include_colab_link": true
    },
    "kernelspec": {
      "name": "python3",
      "display_name": "Python 3"
    }
  },
  "cells": [
    {
      "cell_type": "markdown",
      "metadata": {
        "id": "view-in-github",
        "colab_type": "text"
      },
      "source": [
        "<a href=\"https://colab.research.google.com/github/Choi-SeoYun/Gwangju-AI-Academy/blob/master/1%EC%A3%BC%EC%B0%A8.ipynb\" target=\"_parent\"><img src=\"https://colab.research.google.com/assets/colab-badge.svg\" alt=\"Open In Colab\"/></a>"
      ]
    },
    {
      "cell_type": "markdown",
      "metadata": {
        "id": "lGaL7gX0HPiY",
        "colab_type": "text"
      },
      "source": [
        "# 인공지능을 사용하는 4가지 분야의 제품 및 서비스"
      ]
    },
    {
      "cell_type": "markdown",
      "metadata": {
        "id": "CWMmFMl_Wi5f",
        "colab_type": "text"
      },
      "source": [
        "---"
      ]
    },
    {
      "cell_type": "markdown",
      "metadata": {
        "id": "ObLbav9kbnvC",
        "colab_type": "text"
      },
      "source": [
        "최대한 직관적이고 내 생활 주변에 있는 제품 또는 서비스들을 하나씩 떠올려 보겠다."
      ]
    },
    {
      "cell_type": "markdown",
      "metadata": {
        "id": "PlN5d5HsHSIh",
        "colab_type": "text"
      },
      "source": [
        "## 1. 언어 분야"
      ]
    },
    {
      "cell_type": "markdown",
      "metadata": {
        "id": "nCmb_r9lH3v9",
        "colab_type": "text"
      },
      "source": [
        "언어에 관련하여 가장 먼저 떠오른 것은 번역기이다.   \n",
        "번역기 중에서도 네이버의 __파파고__가 생각난다.\n",
        "\n",
        "몇 년전 네이버 사전 어플리케이션이 아예 파파고로 바뀌어 있었다. 사실 바뀌기 전까지만 해도 딱히 파파고에 관심이 없었는데 막상 어플리케이션 자체가 없어지고 파파고로 통일을 한 것을 보니 내가 생각했던 것보다 많이 발전한 것 같았다."
      ]
    },
    {
      "cell_type": "markdown",
      "metadata": {
        "id": "NO0mAYjceCA9",
        "colab_type": "text"
      },
      "source": [
        "기사를 찾아보니 2018년에 등장한 웹사이트 자체를 번역해주는 네이버 서비스도 이미 인공지능을 활용한 것이었다. 그 당시만 해도 네이버는 오프라인에서 번역을 할 수 있게끔 하는 것이 새로운 목표라고 했다.\n",
        "\n",
        "그리고 2019년, 1년만에 '오프라인 번역기능'을 출시하였다. 작은 용량으로도 효율적으로 AI 번역 기술을 활용하는 것에 항상 초점을 둔다고 한다. 앞으로 어떤 번역기능이 나올 지 궁금하다."
      ]
    },
    {
      "cell_type": "markdown",
      "metadata": {
        "id": "bY2yA13OfQq7",
        "colab_type": "text"
      },
      "source": [
        "출처:   \n",
        "http://clomag.co.kr/article/2901   \n",
        "https://platum.kr/archives/131224"
      ]
    },
    {
      "cell_type": "markdown",
      "metadata": {
        "id": "h4tKmaZqIPaJ",
        "colab_type": "text"
      },
      "source": [
        "## 2. 음성 분야"
      ]
    },
    {
      "cell_type": "markdown",
      "metadata": {
        "id": "LWgqAlaFLlSk",
        "colab_type": "text"
      },
      "source": [
        "음성 분야는 역시 핸드폰 속 __시리__ 또는 __빅스비__가 가장 먼저 떠오른다.   \n",
        "물론 AI스피커도 떠오르긴 하지만 핸드폰은 많은 사람이 들고 다니는 필수품이라서 우리 생활과 더 밀접하다.\n",
        "\n",
        "개인적으로 삼성폰을 쓰기때문에 __빅스비__를 떠올리며 이것저것 검색해보았다.\n",
        "빅스비는 2017년 3월 30일에 삼성전자에서 처음으로 공개된 서비스이다. 단순히 스마트폰 안의 기능만을 실행시켜주는 서비스가 아니라 집의 가전제품까지도 컨트롤이 가능하다.\n",
        "\n"
      ]
    },
    {
      "cell_type": "markdown",
      "metadata": {
        "id": "voLeprE4jXWh",
        "colab_type": "text"
      },
      "source": [
        "사용자인 나의 입장에서는,처음에는 음성인식이 제대로 되지않아 불편했었다. 하지만 요즘에는 음성인식이 거의 완벽하여 사용하기가 편하다.     \n",
        "처음 등장할 때는 드라마에서 어색한 PPL로 접해서 '저걸 쓰게 될 날이 있긴 할까?'라고 생각했다. 하지만 이제는 옷을 갈아입기 전 옷장으로 가면서 날씨를 물어보고, 자기 전에는 눈을 감은 상태로 알람을 설정한다.\n",
        "\n",
        "지금도 아직 많이 대중적이게 사용하지는 않지만 언젠가는 정말 편하고 자연스럽게 사용할 날이 올 것이라고 기대한다."
      ]
    },
    {
      "cell_type": "markdown",
      "metadata": {
        "id": "N2xJA_4miTG1",
        "colab_type": "text"
      },
      "source": [
        "출처:   \n",
        "https://smart-touch.tistory.com/296 [주식회사 스마트터치]"
      ]
    },
    {
      "cell_type": "markdown",
      "metadata": {
        "id": "Fucxb_vjIPdY",
        "colab_type": "text"
      },
      "source": [
        "## 3. 이미지 분야"
      ]
    },
    {
      "cell_type": "markdown",
      "metadata": {
        "id": "aIwcVKk9IPgr",
        "colab_type": "text"
      },
      "source": [
        "이미지 분야에서 가장 생각나는 건 핸드폰에서 사람의 얼굴을 판별한 후 알아서 tag를 걸어주는 것이다.   \n",
        "그 외에는 뚜렷하게 생각나는 것이 없어서 검색을 해 보았다."
      ]
    },
    {
      "cell_type": "markdown",
      "metadata": {
        "id": "YeMo-IZazJh-",
        "colab_type": "text"
      },
      "source": [
        "첫째로 **스마트 팩토리**가 있다.   \n",
        "유리기판을 제조하는 공장에서는 부품에 있는 기포와 먼지를 구별하여 불량을 줄이는 작업이 중요하다. 이때, AI 이미지 분석 기술이 적용되면 감별 작업의 오류 발생 확률을 현저히 낮추고 불량 판정률을 높일 수 있다. "
      ]
    },
    {
      "cell_type": "markdown",
      "metadata": {
        "id": "QhEQWFuMz5sD",
        "colab_type": "text"
      },
      "source": [
        "둘째, **보안 검색대**에 적용할 수 있다.   \n",
        "기존에는 보안 검색대를 지나는 물건들을 엑스레이로 촬용하여 사람이 하나하나 판별해야 했다. 여기에 AI 이미지 분석 기술이 적용되면 보다 정확하게 촬영 이미지를 분석할 수 있어서 자동으로 물품을 판별할 수 있다."
      ]
    },
    {
      "cell_type": "markdown",
      "metadata": {
        "id": "i9KnLp2z0OAR",
        "colab_type": "text"
      },
      "source": [
        "셋째, **무인 스토어**에 적용할 수 있다.   \n",
        "무인 스토어에서 이미지를 판별할 수 있는 AI기술을 넣으면, 구매자가 고른 제품을 계산대에 올리면 상품들을 자동으로 인식하여 계산을 할 수 있게 한다."
      ]
    },
    {
      "cell_type": "markdown",
      "metadata": {
        "id": "NPehf6Pi0nSN",
        "colab_type": "text"
      },
      "source": [
        "사진에서 인물의 판별이나 패션의 판별, 동물의 판별 등에서만 사용하는 줄 알았는데 다양한 분야에 쓰이고 있었다."
      ]
    },
    {
      "cell_type": "markdown",
      "metadata": {
        "id": "vsEsoiv0zPFW",
        "colab_type": "text"
      },
      "source": [
        "출처:   \n",
        "https://post.naver.com/viewer/postView.nhn?volumeNo=17875379&memberNo=39046504"
      ]
    },
    {
      "cell_type": "markdown",
      "metadata": {
        "id": "ssiU097WLmTf",
        "colab_type": "text"
      },
      "source": [
        "## 4. 자율주행 분야"
      ]
    },
    {
      "cell_type": "markdown",
      "metadata": {
        "id": "I7O5o6WhLp2D",
        "colab_type": "text"
      },
      "source": [
        "자율주행하면 딱 떠오르는 건 **자율주행 자동차** 이다.   \n",
        "현재 다니고 있는 학교에서도 자율주행 자동차에 관련한 연구를 하는 곳이 많기 때문에 매우 친숙하다."
      ]
    },
    {
      "cell_type": "markdown",
      "metadata": {
        "id": "QkeIgqAo2cKV",
        "colab_type": "text"
      },
      "source": [
        "SAE(Society of Automotive Engineers, 미국 자동차공학회)에서는 자율주행 단계를 기술 수준에 따라 여섯 단계로 분류한다.   \n",
        "현대자동차그룹에 따르면 오는 2021년까지 스마트시티 안에서 운전자가 운전에 개입하지 않는 4단계 수준 도심형 자율주행 시스템 상용화를 기획중에 있다고 한다. "
      ]
    },
    {
      "cell_type": "markdown",
      "metadata": {
        "id": "PYaGy2rd3qGt",
        "colab_type": "text"
      },
      "source": [
        "국토교통부는 올해 7월부터 운전자의 손길이 없어도 주행을 할 수 있게끔 법을 개정하였다. 이는 자율주행이 3단계까지를 가능하게 한 것이다. 작동영역을 벗어나기 15초 전 수동운전 전환요구가 뜨고 10초 안에 운전자의 반응이 없으면 비상경고 신호를 작동하는 등 안전에 대한 법도 함께 생겼다."
      ]
    },
    {
      "cell_type": "markdown",
      "metadata": {
        "id": "8cLCLqlZ3Z8m",
        "colab_type": "text"
      },
      "source": [
        "출처:   \n",
        "https://www.hyundai.co.kr/TechInnovation/Autonomous/Roadmap.hub\n",
        "http://www.hani.co.kr/arti/economy/car/923202.html"
      ]
    }
  ]
}